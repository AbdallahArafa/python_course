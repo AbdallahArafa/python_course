{
 "cells": [
  {
   "cell_type": "markdown",
   "metadata": {},
   "source": [
    "## Single Linked List\n",
    "\n",
    "https://www.pythoncentral.io/singly-linked-list-insert-node/"
   ]
  },
  {
   "cell_type": "code",
   "execution_count": 1,
   "metadata": {},
   "outputs": [],
   "source": [
    "# implement single linked list in python\n",
    "class Node:\n",
    "    def __init__(self,data,next_node=None):\n",
    "        self.data=data\n",
    "        slef.next_node=next_node\n",
    "    def get_data(self):\n",
    "        return self.data\n",
    "    def set_data(self,new_data):\n",
    "        self.data = new_data\n",
    "class SingleLinkedList:\n",
    "    def __init__(self,head_node=None):\n",
    "        self.head=head_node\n",
    "        self.index=1       \n",
    "    def append(self,new_node):\n",
    "        '''\n",
    "        adds new node at last of the list\n",
    "        '''\n",
    "        if self.head: # non empty linked list\n",
    "            current_node=self.head\n",
    "            while(current_node.next_node):\n",
    "                current_node=current_node.next_node\n",
    "            current_node=new_node\n",
    "        else : # empty list\n",
    "            self.head=new_node\n",
    "    def get_position(self, position):\n",
    "        \"\"\"\n",
    "        get nth node\n",
    "        Get an element from a particular position.\n",
    "        Assume the first position is \"1\".\n",
    "        Return \"None\" if position is not in the list.\n",
    "        \"\"\"\n",
    "        current_node = self.head\n",
    "        if self.head:\n",
    "            while current_node.next_node:\n",
    "                if self.index==position:\n",
    "                    return current\n",
    "                self.index+=1\n",
    "                current = current.next_node\n",
    "            raise IndexError\n",
    "        else:\n",
    "            return None"
   ]
  }
 ],
 "metadata": {
  "kernelspec": {
   "display_name": "Python 3",
   "language": "python",
   "name": "python3"
  },
  "language_info": {
   "codemirror_mode": {
    "name": "ipython",
    "version": 3
   },
   "file_extension": ".py",
   "mimetype": "text/x-python",
   "name": "python",
   "nbconvert_exporter": "python",
   "pygments_lexer": "ipython3",
   "version": "3.6.8"
  }
 },
 "nbformat": 4,
 "nbformat_minor": 2
}
