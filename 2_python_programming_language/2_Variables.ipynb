{
 "cells": [
  {
   "cell_type": "markdown",
   "metadata": {},
   "source": [
    "## Variables in Python"
   ]
  },
  {
   "cell_type": "code",
   "execution_count": 5,
   "metadata": {},
   "outputs": [
    {
     "name": "stdout",
     "output_type": "stream",
     "text": [
      "i have driven 8.2 miles in red Toyota at speed 250 km/h\n"
     ]
    }
   ],
   "source": [
    "car_make='Toyota' # string type\n",
    "car_max_speed=250 # int type\n",
    "car_color='red'\n",
    "driven_distance=8.2 # float type\n",
    "print(\"i have driven {} miles in {} {} at speed {} km/h\".format(driven_distance,car_color,car_make,car_max_speed))"
   ]
  },
  {
   "cell_type": "code",
   "execution_count": 9,
   "metadata": {},
   "outputs": [
    {
     "name": "stdout",
     "output_type": "stream",
     "text": [
      "5.0\n",
      "6.0\n"
     ]
    }
   ],
   "source": [
    "# implicit type conversion\n",
    "a = 2\n",
    "b = 3.\n",
    "c = a + b \n",
    "print (c) \n",
    "d = a * b \n",
    "print (d)"
   ]
  },
  {
   "cell_type": "code",
   "execution_count": 11,
   "metadata": {},
   "outputs": [
    {
     "name": "stdout",
     "output_type": "stream",
     "text": [
      "<class 'int'>\n",
      "<class 'str'>\n"
     ]
    }
   ],
   "source": [
    "# explicit type conversion\n",
    "num=20\n",
    "print(type(num))\n",
    "str_num=str(num)\n",
    "print(type(str_num))"
   ]
  },
  {
   "cell_type": "code",
   "execution_count": 15,
   "metadata": {},
   "outputs": [
    {
     "name": "stdout",
     "output_type": "stream",
     "text": [
      "20  18.8  hello  [5, 'x', 0.0]\n"
     ]
    }
   ],
   "source": [
    "# we can do multible assignment in one line\n",
    "x,y,z,w=20,18.8,'hello',[5,'x',0.]\n",
    "print(x,y,z,w,sep='  ')"
   ]
  },
  {
   "cell_type": "code",
   "execution_count": 17,
   "metadata": {},
   "outputs": [],
   "source": [
    "# quiz \n",
    "# write python statement to swap two variables"
   ]
  }
 ],
 "metadata": {
  "kernelspec": {
   "display_name": "Python 3",
   "language": "python",
   "name": "python3"
  },
  "language_info": {
   "codemirror_mode": {
    "name": "ipython",
    "version": 3
   },
   "file_extension": ".py",
   "mimetype": "text/x-python",
   "name": "python",
   "nbconvert_exporter": "python",
   "pygments_lexer": "ipython3",
   "version": "3.6.9"
  }
 },
 "nbformat": 4,
 "nbformat_minor": 2
}
