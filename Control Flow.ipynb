{
 "cells": [
  {
   "cell_type": "markdown",
   "metadata": {},
   "source": [
    "## loops in python"
   ]
  },
  {
   "cell_type": "markdown",
   "metadata": {},
   "source": [
    "## while loop"
   ]
  },
  {
   "cell_type": "code",
   "execution_count": 2,
   "metadata": {},
   "outputs": [
    {
     "name": "stdout",
     "output_type": "stream",
     "text": [
      "Hello 1\n",
      "Hello 2\n",
      "Hello 3\n"
     ]
    }
   ],
   "source": [
    "# Python program to illustrate \n",
    "# while loop \n",
    "count = 0\n",
    "while (count < 3):\n",
    "    count = count + 1\n",
    "    print(\"Hello \"+str(count))"
   ]
  },
  {
   "cell_type": "markdown",
   "metadata": {},
   "source": [
    "## For loop"
   ]
  },
  {
   "cell_type": "code",
   "execution_count": 5,
   "metadata": {},
   "outputs": [
    {
     "name": "stdout",
     "output_type": "stream",
     "text": [
      "List Iteration\n",
      "python\n",
      "c++\n",
      "java\n",
      "\n",
      "Tuple Iteration\n",
      "python\n",
      "c++\n",
      "java\n",
      "\n",
      "String Iteration\n",
      "p\n",
      "y\n",
      "t\n",
      "h\n",
      "o\n",
      "n\n",
      "\n",
      "Dictionary Iteration\n",
      "xyz 123\n",
      "abc 345\n"
     ]
    }
   ],
   "source": [
    "# Python program to illustrate \n",
    "# Iterating over a list \n",
    "print(\"List Iteration\") \n",
    "l = [\"python\", \"c++\", \"java\"] \n",
    "for i in l: \n",
    "    print(i) \n",
    "# Iterating over a tuple (immutable) \n",
    "print(\"\\nTuple Iteration\") \n",
    "t = (\"python\", \"c++\", \"java\") \n",
    "for i in t: \n",
    "    print(i) \n",
    "# Iterating over a String \n",
    "print(\"\\nString Iteration\")\t \n",
    "s = \"python\"\n",
    "for i in s : \n",
    "    print(i) \n",
    "# Iterating over dictionary \n",
    "print(\"\\nDictionary Iteration\") \n",
    "d = dict() \n",
    "d['xyz'] = 123\n",
    "d['abc'] = 345\n",
    "for i in d : \n",
    "    print(\"%s %d\" %(i, d[i]))"
   ]
  },
  {
   "cell_type": "markdown",
   "metadata": {},
   "source": [
    "## Nested loops"
   ]
  },
  {
   "cell_type": "code",
   "execution_count": 18,
   "metadata": {},
   "outputs": [
    {
     "name": "stdout",
     "output_type": "stream",
     "text": [
      "#\n",
      "\n",
      "##\n",
      "\n",
      "###\n",
      "\n",
      "####\n",
      "\n",
      "#####\n",
      "\n",
      "######\n",
      "\n",
      "#######\n",
      "\n",
      "########\n",
      "\n",
      "#########\n",
      "\n"
     ]
    }
   ],
   "source": [
    "# Python program to illustrate \n",
    "# nested for loops in Python \n",
    "for i in range(1, 10): \n",
    "    for j in range(i): \n",
    "        print('#',end='')\n",
    "    print('\\n')"
   ]
  },
  {
   "cell_type": "markdown",
   "metadata": {},
   "source": [
    "## Break Statement"
   ]
  },
  {
   "cell_type": "code",
   "execution_count": 21,
   "metadata": {},
   "outputs": [
    {
     "name": "stdout",
     "output_type": "stream",
     "text": [
      "Current Letter : h\n"
     ]
    }
   ],
   "source": [
    "# It brings control out of the loop\n",
    "for letter in 'python programming language': \n",
    "# break the loop as soon it sees 'e' \n",
    "    # or 's' \n",
    "    if letter == 'h' or letter == 'z': \n",
    "        break\n",
    "print ('Current Letter :', letter)"
   ]
  },
  {
   "cell_type": "markdown",
   "metadata": {},
   "source": [
    "## Pass Statement"
   ]
  },
  {
   "cell_type": "code",
   "execution_count": null,
   "metadata": {},
   "outputs": [],
   "source": []
  }
 ],
 "metadata": {
  "kernelspec": {
   "display_name": "Python 3",
   "language": "python",
   "name": "python3"
  },
  "language_info": {
   "codemirror_mode": {
    "name": "ipython",
    "version": 3
   },
   "file_extension": ".py",
   "mimetype": "text/x-python",
   "name": "python",
   "nbconvert_exporter": "python",
   "pygments_lexer": "ipython3",
   "version": "3.6.8"
  }
 },
 "nbformat": 4,
 "nbformat_minor": 2
}
