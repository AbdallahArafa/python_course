{
 "cells": [
  {
   "cell_type": "markdown",
   "metadata": {},
   "source": [
    "### what is recursion\n",
    "\n",
    "`Recursion is a useful technique borrowed from mathematics. Recursive code is generally shorter and easier to\n",
    "write than iterative code. Generally, loops arc turned into recursive functions when they arc compiled or\n",
    "interpreted`"
   ]
  },
  {
   "cell_type": "markdown",
   "metadata": {},
   "source": [
    "### Format of a Recursive Function"
   ]
  },
  {
   "cell_type": "code",
   "execution_count": 3,
   "metadata": {},
   "outputs": [
    {
     "data": {
      "text/plain": [
       "'\\n\\nif(test for the base case):\\n    return some base case value\\nelse if(test for anoLher base case):\\n    return some other base case value\\n# the recursive case\\nelse\\nreturn (some work and then a recursive call)\\n\\n'"
      ]
     },
     "execution_count": 3,
     "metadata": {},
     "output_type": "execute_result"
    }
   ],
   "source": [
    "'''\n",
    "\n",
    "if(test for the base case):\n",
    "    return some base case value\n",
    "else if(test for anoLher base case):\n",
    "    return some other base case value\n",
    "# the recursive case\n",
    "else\n",
    "return (some work and then a recursive call)\n",
    "\n",
    "'''"
   ]
  },
  {
   "cell_type": "code",
   "execution_count": 4,
   "metadata": {},
   "outputs": [
    {
     "name": "stdout",
     "output_type": "stream",
     "text": [
      "39916800\n"
     ]
    }
   ],
   "source": [
    "# example\n",
    "def factorial(n):\n",
    "    if n < 0:\n",
    "        raise Exception('factorial not allowed for negative numbers')\n",
    "    elif n == 0 or n == 1: # base case\n",
    "        return 1\n",
    "    else: # recursive cases\n",
    "        return n*factorial(n-1)\n",
    "\n",
    "\n",
    "if __name__ == \"__main__\":\n",
    "    print(factorial(11))"
   ]
  },
  {
   "cell_type": "markdown",
   "metadata": {},
   "source": [
    "### notes\n",
    "\n",
    "* Solutions lo some proble ms ure eusier lo fo rmulate recursively.\n",
    "* Recursive algorithms have two types of cases, recursive cases and base cases."
   ]
  },
  {
   "cell_type": "code",
   "execution_count": null,
   "metadata": {},
   "outputs": [],
   "source": []
  }
 ],
 "metadata": {
  "kernelspec": {
   "display_name": "Python 3",
   "language": "python",
   "name": "python3"
  },
  "language_info": {
   "codemirror_mode": {
    "name": "ipython",
    "version": 3
   },
   "file_extension": ".py",
   "mimetype": "text/x-python",
   "name": "python",
   "nbconvert_exporter": "python",
   "pygments_lexer": "ipython3",
   "version": "3.6.9"
  }
 },
 "nbformat": 4,
 "nbformat_minor": 2
}
