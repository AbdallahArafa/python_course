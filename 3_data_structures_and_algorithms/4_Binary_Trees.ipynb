{
 "cells": [
  {
   "cell_type": "markdown",
   "metadata": {},
   "source": [
    "## Trees Basic Terminology"
   ]
  },
  {
   "cell_type": "markdown",
   "metadata": {},
   "source": [
    "https://www.gatevidyalay.com/tree-data-structure-tree-terminology/"
   ]
  },
  {
   "cell_type": "markdown",
   "metadata": {},
   "source": [
    "## Trees implementation in Python"
   ]
  },
  {
   "cell_type": "code",
   "execution_count": 1,
   "metadata": {},
   "outputs": [],
   "source": [
    "# tree node\n",
    "class Node:\n",
    "    def __init__(self, value):\n",
    "        self.value = value\n",
    "        self.left = None\n",
    "        self.right = None"
   ]
  },
  {
   "cell_type": "markdown",
   "metadata": {},
   "source": [
    "A Tree is typically traversed in two ways:\n",
    "\n",
    "* Breadth First Traversal (Or Level Order Traversal)\n",
    "* Depth First Traversals\n",
    "     * Inorder Traversal (Left-Root-Right)\n",
    "     *  Preorder Traversal (Root-Left-Right)\n",
    "     * Postorder Traversal (Left-Right-Root)\n",
    "    ![tree](../images/tree12.gif)\n",
    "    \n",
    "BFS and DFSs of above Tree\n",
    "\n",
    "* Breadth First Traversal : 1 2 3 4 5 (level >> left >> right)\n",
    "\n",
    "* Depth First Traversals:\n",
    "      Preorder Traversal : 1 2 4 5 3  (root >> left >> right)\n",
    "      Inorder Traversal  :  4 2 5 1 3 (left >> root >> right)\n",
    "      Postorder Traversal : 4 5 2 3 1 (left >> right >> root)"
   ]
  },
  {
   "cell_type": "markdown",
   "metadata": {},
   "source": [
    "## Binary Search Trees\n",
    "\n",
    "Binary Search Tree, is a node-based binary tree data structure which has the following properties:\n",
    "* The left subtree of a node contains only nodes with keys lesser than the node’s key.\n",
    "* The right subtree of a node contains only nodes with keys greater than the node’s key.\n",
    "* The left and right subtree each must also be a binary search tree.\n",
    "* There must be no duplicate nodes.\n",
    "\n",
    "![tree](../images/Binary_search_tree.svg)"
   ]
  },
  {
   "cell_type": "markdown",
   "metadata": {},
   "source": [
    "### search a binary search tree"
   ]
  },
  {
   "cell_type": "code",
   "execution_count": 4,
   "metadata": {},
   "outputs": [],
   "source": [
    "def search(root, key):\n",
    "    \"\"\"\n",
    "    search BST for a specefic key\n",
    "    :param root: root node of BST\n",
    "    :param key: key to search for\n",
    "    :return: key if found or None\n",
    "    \"\"\"\n",
    "    if key == root.value or root.value == None: # recursion base case\n",
    "        return root.value\n",
    "    elif key < root.value:\n",
    "        return search(root.left, key)\n",
    "    else:\n",
    "        return search(root.right, key)\n",
    "\n",
    "# Time complexity O(n)"
   ]
  },
  {
   "cell_type": "markdown",
   "metadata": {},
   "source": [
    "### Insertion of a key"
   ]
  },
  {
   "cell_type": "code",
   "execution_count": 1,
   "metadata": {},
   "outputs": [],
   "source": [
    "def insert(root, key):\n",
    "    \"\"\"\n",
    "    insert a key in BST inplace\n",
    "    :param root: root node of BST\n",
    "    :param key: value to be inserted\n",
    "    :return: None\n",
    "    \"\"\"\n",
    "    if root == None:\n",
    "        root = Node(key)\n",
    "    else:\n",
    "        if key > root.value:\n",
    "            if root.right == None:\n",
    "                root.right = Node(key)\n",
    "            else:\n",
    "                insert(root.right, key)\n",
    "        elif key < root.value:\n",
    "            if root.left == None:\n",
    "                root.left = Node(key)\n",
    "            else:\n",
    "                insert(root.left, key)\n",
    "                \n",
    "# Time complexity O(n)"
   ]
  }
 ],
 "metadata": {
  "kernelspec": {
   "display_name": "Python 3",
   "language": "python",
   "name": "python3"
  },
  "language_info": {
   "codemirror_mode": {
    "name": "ipython",
    "version": 3
   },
   "file_extension": ".py",
   "mimetype": "text/x-python",
   "name": "python",
   "nbconvert_exporter": "python",
   "pygments_lexer": "ipython3",
   "version": "3.6.8"
  }
 },
 "nbformat": 4,
 "nbformat_minor": 2
}
