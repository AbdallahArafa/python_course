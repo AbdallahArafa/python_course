{
 "cells": [
  {
   "cell_type": "markdown",
   "metadata": {},
   "source": [
    "### Stack basics\n",
    "\n",
    "* LIFO data structure\n",
    "* Linear data structure\n",
    "* Push(data) >>>> add new item to the top\n",
    "* Pop(data) >>>> delete top item\n",
    "![img](../images/stack.png)"
   ]
  },
  {
   "cell_type": "code",
   "execution_count": 2,
   "metadata": {},
   "outputs": [],
   "source": [
    "from linear_ds import LinearDs\n",
    "class Stack(LinearDs):\n",
    "    def push(self, item):  # push element to the stack\n",
    "        self.items.append(item)\n",
    "    def pop(self):  # remove stack top item\n",
    "        try:\n",
    "            self.items.pop()\n",
    "        except IndexError:\n",
    "            print(\"you can not pop from empty stack\")\n",
    "    def top(self):\n",
    "        return self.items[-1]"
   ]
  }
 ],
 "metadata": {
  "kernelspec": {
   "display_name": "Python 3",
   "language": "python",
   "name": "python3"
  },
  "language_info": {
   "codemirror_mode": {
    "name": "ipython",
    "version": 3
   },
   "file_extension": ".py",
   "mimetype": "text/x-python",
   "name": "python",
   "nbconvert_exporter": "python",
   "pygments_lexer": "ipython3",
   "version": "3.6.8"
  }
 },
 "nbformat": 4,
 "nbformat_minor": 2
}
