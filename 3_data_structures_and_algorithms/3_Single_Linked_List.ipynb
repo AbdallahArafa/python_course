{
 "cells": [
  {
   "cell_type": "markdown",
   "metadata": {},
   "source": [
    "## Single Linked List"
   ]
  },
  {
   "cell_type": "markdown",
   "metadata": {},
   "source": [
    "![linkedlist](../images/Linkedlist.png)"
   ]
  },
  {
   "cell_type": "markdown",
   "metadata": {},
   "source": [
    "## Linekd List functions"
   ]
  },
  {
   "cell_type": "markdown",
   "metadata": {},
   "source": [
    "* push\n",
    "\n",
    "    * insert node from front\n",
    "    * time complexity O(1)\n",
    "![linkedlist](../images/Linkedlist_insert_at_start.png)\n",
    "\n",
    "* append\n",
    "\n",
    "    * insert node at last of the list\n",
    "    * time complexity O(1)\n",
    "![linkedlist](../images/Linkedlist_insert_last.png)\n",
    "\n",
    "* insert \n",
    "\n",
    "    * insert node at specefic position\n",
    "    * Time complexity of insert () is O(1)\n",
    "    \n",
    "![linkedlist](../images/Linkedlist_insert_middle.png)\n",
    "\n",
    "* delete\n",
    "\n",
    "    * delete a node at given position\n",
    "    * Time complexity is O(1)\n",
    "![linkedlist](../images/Linkedlist_deletion.png)"
   ]
  },
  {
   "cell_type": "code",
   "execution_count": 3,
   "metadata": {},
   "outputs": [],
   "source": [
    "# implement single linked list in python\n",
    "class Node:\n",
    "    def __init__(self, data, next_node=None):\n",
    "        self.data = data\n",
    "        self.next_node = next_node\n",
    "\n",
    "    def get_data(self):\n",
    "        return self.data\n",
    "\n",
    "    def set_data(self, new_data):\n",
    "        self.data = new_data\n",
    "\n",
    "\n",
    "class SingleLinkedList:\n",
    "    def __init__(self, head_node=None):\n",
    "        self.head = head_node\n",
    "\n",
    "    def push(self, new_node):\n",
    "        '''\n",
    "        add new node at the beggining of the list\n",
    "        '''\n",
    "        if self.head:  # non empty linked list\n",
    "            new_node.next_node = self.head  # Make next of new Node as head\n",
    "            self.head = new_node  # Move the head to point to new Node\n",
    "        else:  # empty list\n",
    "            self.head = new_node\n",
    "\n",
    "    def append(self, new_node):\n",
    "        '''\n",
    "        adds new node at last of the list\n",
    "        '''\n",
    "        if self.head:  # non empty linked list\n",
    "            current_node = self.head\n",
    "            while current_node.next_node:  # traverse all the list\n",
    "                current_node = current_node.next_node\n",
    "            current_node.next_node = new_node  # save new_node to be last one\n",
    "        else:  # empty list\n",
    "            self.head = new_node\n",
    "\n",
    "    def insert(self, new_node, position):\n",
    "        '''\n",
    "        insert a new node at the given position.\n",
    "        Assume the first position is \"1\".\n",
    "        Inserting at position 3 means between\n",
    "        the 2nd and 3rd elements\n",
    "        '''\n",
    "        if self.head:\n",
    "            current_node = self.head\n",
    "            index = 1\n",
    "            while current_node.next_node:\n",
    "                if index == position - 1:\n",
    "                    # swap logic\n",
    "                    new_node.next_node = current_node.next_node\n",
    "                    current_node.next_node = new_node\n",
    "                    return\n",
    "                index += 1\n",
    "                current_node = current_node.next_node\n",
    "            raise IndexError\n",
    "        else:\n",
    "            print('cant insert to empty node')\n",
    "            return\n",
    "\n",
    "    def get_position(self, position):\n",
    "        \"\"\"\n",
    "        get data at nth node\n",
    "        Get an element from a particular position.\n",
    "        Assume the first position is \"1\".\n",
    "        Return \"None\" if position is not in the list.\n",
    "        \"\"\"\n",
    "        current_node = self.head\n",
    "        if current_node:\n",
    "            index = 1\n",
    "            while current_node:\n",
    "                if index == position:\n",
    "                    return current_node.data\n",
    "                index += 1\n",
    "                current_node = current_node.next_node\n",
    "        else:\n",
    "            raise IndexError\n",
    "        # Utility function to print the linked list\n",
    "\n",
    "    def print_list(self):\n",
    "        temp = self.head\n",
    "        if temp:\n",
    "            while (temp):\n",
    "                print(temp.data, end=' >>> ')\n",
    "                temp = temp.next_node\n",
    "        else:\n",
    "            return []\n",
    "\n",
    "    def delete_node(self, position):\n",
    "        if self.head:\n",
    "            current_node = self.head\n",
    "            if position == 1:\n",
    "                self.head = self.head.next_node\n",
    "            elif position > 1:\n",
    "                index = 1\n",
    "                while current_node.next_node:\n",
    "                    if index == position - 1:\n",
    "                        # delete logic\n",
    "                        next_node = current_node.next_node\n",
    "                        current_node.next_node = next_node.next_node\n",
    "                        return\n",
    "                    index += 1\n",
    "                    current_node = current_node.next_node\n",
    "                raise IndexError\n",
    "        else:\n",
    "            raise IndexError"
   ]
  },
  {
   "cell_type": "code",
   "execution_count": 11,
   "metadata": {},
   "outputs": [
    {
     "name": "stdout",
     "output_type": "stream",
     "text": [
      "E\n",
      "8 >>> 7 >>> C >>> D >>> E >>> 6 >>> A >>> B >>> "
     ]
    }
   ],
   "source": [
    "llist = SingleLinkedList()\n",
    "llist.print_list()\n",
    "llist.push(Node(6))\n",
    "llist.push(Node(7))\n",
    "llist.push(Node(8))\n",
    "llist.append(Node('A'))\n",
    "llist.append(Node('B'))\n",
    "llist.insert(Node('C'), 3)\n",
    "llist.insert(Node('D'), 4)\n",
    "llist.insert(Node('E'), 5)\n",
    "print(llist.get_position(5))\n",
    "llist.print_list()"
   ]
  },
  {
   "cell_type": "code",
   "execution_count": 12,
   "metadata": {},
   "outputs": [
    {
     "name": "stdout",
     "output_type": "stream",
     "text": [
      "8 >>> 7 >>> D >>> E >>> 6 >>> A >>> B >>> "
     ]
    }
   ],
   "source": [
    "llist.delete_node(3)\n",
    "llist.print_list()"
   ]
  },
  {
   "cell_type": "code",
   "execution_count": 13,
   "metadata": {},
   "outputs": [
    {
     "name": "stdout",
     "output_type": "stream",
     "text": [
      "8 >>> 7 >>> D >>> E >>> 6 >>> A >>> "
     ]
    }
   ],
   "source": [
    "llist.delete_node(7)\n",
    "llist.print_list()"
   ]
  },
  {
   "cell_type": "markdown",
   "metadata": {},
   "source": [
    "### take home assignment\n",
    "#### implement delete_node_by_value () function , which deletes a node with specefic value , if value is not found raise KeyError exception"
   ]
  }
 ],
 "metadata": {
  "kernelspec": {
   "display_name": "Python 3",
   "language": "python",
   "name": "python3"
  },
  "language_info": {
   "codemirror_mode": {
    "name": "ipython",
    "version": 3
   },
   "file_extension": ".py",
   "mimetype": "text/x-python",
   "name": "python",
   "nbconvert_exporter": "python",
   "pygments_lexer": "ipython3",
   "version": "3.6.8"
  }
 },
 "nbformat": 4,
 "nbformat_minor": 2
}
