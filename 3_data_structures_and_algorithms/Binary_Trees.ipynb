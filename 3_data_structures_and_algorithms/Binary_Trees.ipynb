{
 "cells": [
  {
   "cell_type": "markdown",
   "metadata": {},
   "source": [
    "## Trees Basic Terminology"
   ]
  },
  {
   "cell_type": "markdown",
   "metadata": {},
   "source": [
    "https://www.gatevidyalay.com/tree-data-structure-tree-terminology/"
   ]
  },
  {
   "cell_type": "markdown",
   "metadata": {},
   "source": [
    "## Trees implementation in Python"
   ]
  },
  {
   "cell_type": "code",
   "execution_count": 1,
   "metadata": {},
   "outputs": [],
   "source": [
    "# tree node\n",
    "class Node:\n",
    "    def __init__(self, key):\n",
    "        self.value = key\n",
    "        self.left = None\n",
    "        self.right = None"
   ]
  },
  {
   "cell_type": "markdown",
   "metadata": {},
   "source": [
    "A Tree is typically traversed in two ways:\n",
    "\n",
    "* Breadth First Traversal (Or Level Order Traversal)\n",
    "* Depth First Traversals\n",
    "     * Inorder Traversal (Left-Root-Right)\n",
    "     *  Preorder Traversal (Root-Left-Right)\n",
    "     * Postorder Traversal (Left-Right-Root)\n",
    "    ![tree](../images/tree12.gif)\n",
    "    \n",
    "BFS and DFSs of above Tree\n",
    "\n",
    "* Breadth First Traversal : 1 2 3 4 5\n",
    "\n",
    "* Depth First Traversals:\n",
    "      Preorder Traversal : 1 2 4 5 3 \n",
    "      Inorder Traversal  :  4 2 5 1 3 \n",
    "      Postorder Traversal : 4 5 2 3 1"
   ]
  },
  {
   "cell_type": "code",
   "execution_count": null,
   "metadata": {},
   "outputs": [],
   "source": []
  }
 ],
 "metadata": {
  "kernelspec": {
   "display_name": "Python 3",
   "language": "python",
   "name": "python3"
  },
  "language_info": {
   "codemirror_mode": {
    "name": "ipython",
    "version": 3
   },
   "file_extension": ".py",
   "mimetype": "text/x-python",
   "name": "python",
   "nbconvert_exporter": "python",
   "pygments_lexer": "ipython3",
   "version": "3.6.8"
  }
 },
 "nbformat": 4,
 "nbformat_minor": 2
}
